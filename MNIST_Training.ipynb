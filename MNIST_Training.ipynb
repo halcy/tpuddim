{
 "cells": [
  {
   "cell_type": "code",
   "execution_count": null,
   "id": "eb27d4da-4a10-4d4e-93bf-0828f8abce51",
   "metadata": {},
   "outputs": [],
   "source": [
    "!pip install -qr requirements.txt"
   ]
  },
  {
   "cell_type": "code",
   "execution_count": null,
   "id": "d2094c8c-0467-4bb0-a9ab-fbb4e870a79c",
   "metadata": {},
   "outputs": [],
   "source": [
    "%matplotlib inline\n",
    "import matplotlib.pyplot as plt\n",
    "\n",
    "from ddim.models.unet import UNet\n",
    "from ddim.diffusion.parameters import linear_beta_schedule, diff_params_from_betas\n",
    "from ddim.diffusion.inference import denoising_loop\n",
    "from ddim.training.steps import get_train_loop\n",
    "from ddim.training.ema import EMA\n",
    "from ddim.training.data import TimestepSampler, DataSampler\n",
    "\n",
    "import numpy as np\n",
    "import random\n",
    "import pickle\n",
    "\n",
    "import jax\n",
    "from jax import numpy as jnp\n",
    "from jax.experimental.pjit import pjit, PartitionSpec\n",
    "from jax.experimental.maps import mesh\n",
    "import optax\n",
    "\n",
    "import jmp\n",
    "\n",
    "from torchvision.datasets import MNIST"
   ]
  },
  {
   "cell_type": "code",
   "execution_count": null,
   "id": "d622fca6-2b08-4b52-b368-de6292daef07",
   "metadata": {},
   "outputs": [],
   "source": [
    "# Basix jax mesh setup\n",
    "prng = jax.random.PRNGKey(1337)\n",
    "devices = np.array(jax.devices()).reshape((1, 4, 2))\n",
    "precision_policy = jmp.Policy(\n",
    "    compute_dtype = jnp.bfloat16,\n",
    "    param_dtype = jnp.bfloat16,\n",
    "    output_dtype = jnp.bfloat16,\n",
    ")"
   ]
  },
  {
   "cell_type": "code",
   "execution_count": null,
   "id": "832b0eac-130d-46e4-8f7f-ca59e98acb5e",
   "metadata": {},
   "outputs": [],
   "source": [
    "# Load MNIST digits and transform to -1 -> 1 range\n",
    "mnist_dataset = MNIST('/tmp/mnist/', download=True)\n",
    "\n",
    "mnist_data = []\n",
    "for mnist_image in mnist_dataset:\n",
    "    mnist_data.append(jnp.array(mnist_image[0]).reshape(28, 28, 1))\n",
    "mnist_data = jnp.array(mnist_data) / 127.5 - 1.0\n",
    "\n",
    "plt.imshow(mnist_data[0])\n",
    "plt.colorbar()"
   ]
  },
  {
   "cell_type": "code",
   "execution_count": null,
   "id": "10ef7e57-b61d-4df4-943d-f4cdb9b51f8c",
   "metadata": {},
   "outputs": [],
   "source": [
    "# Set up model\n",
    "model = UNet(\n",
    "    dims = 2,\n",
    "    model_channels = 64,\n",
    "    channel_mult = (1, 2),\n",
    "    use_scale_shift_norm = True,\n",
    "    dropout = 0.0,\n",
    "    num_head_channels = 8,\n",
    "    num_res_blocks = 1,\n",
    "    attention_resolutions = (2,),\n",
    "    out_channels = 1,\n",
    "    dtype = precision_policy.compute_dtype\n",
    ")\n",
    "\n",
    "# Initialize parameters\n",
    "image_in = jnp.zeros((1, 28, 28, 1))\n",
    "embed_in = jnp.zeros((1,))\n",
    "init_pjit = pjit(model.init, [None, PartitionSpec(\"batch\", \"x\", \"y\"), PartitionSpec(\"batch\")], PartitionSpec(None))\n",
    "with mesh(devices, ('batch', 'x', 'y')):\n",
    "    params = init_pjit(prng, jnp.zeros((1, 28, 28, 1)), jnp.zeros((1,)))\n",
    "    \n",
    "param_count = 0\n",
    "for param in jax.tree_util.tree_flatten(params)[0]:\n",
    "    param_count += len(param.flatten())\n",
    "print(f\"param count: {param_count}\")\n",
    "\n",
    "# Initialize diffusion\n",
    "diff_params = diff_params_from_betas(linear_beta_schedule(1000))"
   ]
  },
  {
   "cell_type": "code",
   "execution_count": null,
   "id": "ac2703cb-75e1-4932-b987-76d73fb07a58",
   "metadata": {},
   "outputs": [],
   "source": [
    "# Set up training\n",
    "batch_size = 32\n",
    "ema = EMA()\n",
    "data_sampler = DataSampler(mnist_data, batch_size)\n",
    "timestep_sampler = TimestepSampler(1000, batch_size)\n",
    "\n",
    "learning_rate = 0.0001\n",
    "opt = optax.chain(\n",
    "    optax.scale_by_adam(b1=0.9, b2=0.999, eps=1e-8),\n",
    "    optax.scale(-learning_rate)\n",
    ")\n",
    "opt_params = opt.init(params)\n",
    "\n",
    "# Build a train loop that runs for 10000 batches\n",
    "train_loop = get_train_loop(\n",
    "    opt, \n",
    "    model, \n",
    "    diff_params, \n",
    "    data_sampler, \n",
    "    timestep_sampler, \n",
    "    ema, \n",
    "    how_many = 10000\n",
    ")"
   ]
  },
  {
   "cell_type": "code",
   "execution_count": null,
   "id": "fa86f5b1-1ee3-4118-85a9-91252cc0011f",
   "metadata": {},
   "outputs": [],
   "source": [
    "# Train\n",
    "loss = 0\n",
    "with mesh(devices, ('batch', 'x', 'y')):\n",
    "    for i in range(0, 10):\n",
    "        # Progress shot\n",
    "        prng_img = jax.random.PRNGKey(random.randint(0, 2**32))\n",
    "        images_in = jax.random.normal(prng_img, (1, 28, 28, 1))\n",
    "        timesteps_in = jnp.array([0,], dtype=jnp.int32)\n",
    "        out = denoising_loop(model, params, diff_params, images_in.astype(jnp.float32))\n",
    "        image = (out[0, :, :, :] + 1.0) / 2.0\n",
    "        plt.figure(figsize=(8, 8))\n",
    "        plt.imshow(image)\n",
    "        plt.show()\n",
    "        \n",
    "        # Print loss\n",
    "        print(f\"e: {i * 10000}, l: {loss}\")\n",
    "        \n",
    "        # Save parameters\n",
    "        with open(f\"params_{i * 10000}.pkl\", \"wb\") as f:\n",
    "            pickle.dump(params, f)             \n",
    "        \n",
    "        # Run 10000 training batches\n",
    "        prng, params, opt_params, loss = train_loop(prng, params, opt_params)"
   ]
  },
  {
   "cell_type": "code",
   "execution_count": null,
   "id": "8e8a7032-3b3f-4816-b57b-5747c4a7dea0",
   "metadata": {},
   "outputs": [],
   "source": []
  }
 ],
 "metadata": {
  "kernelspec": {
   "display_name": "Python 3 (ipykernel)",
   "language": "python",
   "name": "python3"
  },
  "language_info": {
   "codemirror_mode": {
    "name": "ipython",
    "version": 3
   },
   "file_extension": ".py",
   "mimetype": "text/x-python",
   "name": "python",
   "nbconvert_exporter": "python",
   "pygments_lexer": "ipython3",
   "version": "3.8.10"
  }
 },
 "nbformat": 4,
 "nbformat_minor": 5
}
