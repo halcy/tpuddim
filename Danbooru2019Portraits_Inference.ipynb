{
 "cells": [
  {
   "cell_type": "code",
   "execution_count": null,
   "id": "da63342c-27cc-4c59-9d60-def604672929",
   "metadata": {},
   "outputs": [],
   "source": [
    "!pip install -qr requirements.txt"
   ]
  },
  {
   "cell_type": "code",
   "execution_count": null,
   "id": "22fb77dd-c75e-49e3-9c8d-b57e2ad0341d",
   "metadata": {},
   "outputs": [],
   "source": [
    "%matplotlib inline\n",
    "import matplotlib.pyplot as plt\n",
    "\n",
    "from ddim.models.unet import UNet\n",
    "from ddim.models.model_utils import load_params, get_default_channel_mult\n",
    "from ddim.diffusion.parameters import linear_beta_schedule, diff_params_from_betas\n",
    "from ddim.diffusion.inference import denoising_loop\n",
    "\n",
    "import numpy as np\n",
    "import random\n",
    "\n",
    "import jax\n",
    "from jax import numpy as jnp\n",
    "from jax.experimental.pjit import pjit, PartitionSpec\n",
    "from jax.experimental.maps import mesh\n",
    "\n",
    "import jmp"
   ]
  },
  {
   "cell_type": "code",
   "execution_count": null,
   "id": "6fdf3dbe-3ab2-4c3f-902e-1a0effe6cba9",
   "metadata": {},
   "outputs": [],
   "source": [
    "# Jax setup\n",
    "devices = np.array(jax.devices()).reshape((1, 4, 2))\n",
    "precision_policy = jmp.Policy(\n",
    "    compute_dtype = jnp.bfloat16,\n",
    "    param_dtype = jnp.bfloat16,\n",
    "    output_dtype = jnp.bfloat16,\n",
    ")"
   ]
  },
  {
   "cell_type": "code",
   "execution_count": null,
   "id": "5c1bc971-f435-4ceb-93a0-d3cdf908d11e",
   "metadata": {},
   "outputs": [],
   "source": [
    "# Create model, load parameters, set up diffusion\n",
    "image_size = 128\n",
    "model = UNet(\n",
    "    dims = 2,\n",
    "    model_channels = 256,\n",
    "    channel_mult = get_default_channel_mult(image_size),\n",
    "    use_scale_shift_norm = True,\n",
    "    dropout = 0.0,\n",
    "    num_head_channels = 64,\n",
    "    num_res_blocks = 2,\n",
    "    attention_resolutions = (32, 16, 8),\n",
    "    out_channels = 3,\n",
    "    dtype = precision_policy.compute_dtype\n",
    ")\n",
    "\n",
    "params = load_params(\"params_danbooru2019_128_300000.pkl\", devices, precision_policy)\n",
    "diff_params = diff_params_from_betas(linear_beta_schedule(1000))"
   ]
  },
  {
   "cell_type": "code",
   "execution_count": null,
   "id": "8fd4a7b2-23e4-4e9a-8a55-e74cead8f60b",
   "metadata": {},
   "outputs": [],
   "source": [
    "# pjit the denoising loop\n",
    "def denoising_loop_pjit(params, diff_params, images):\n",
    "    return denoising_loop(model, params, diff_params, images)\n",
    "\n",
    "denoising_loop_pjit = pjit(denoising_loop_pjit, \n",
    "   [\n",
    "       PartitionSpec(None),\n",
    "       PartitionSpec(None),\n",
    "       PartitionSpec(\"batch\", \"x\", \"y\")\n",
    "   ], \n",
    "   PartitionSpec(\"batch\", \"x\", \"y\"),\n",
    "   # static_argnums = (0,) # TODO\n",
    ")"
   ]
  },
  {
   "cell_type": "code",
   "execution_count": null,
   "id": "b5009891-8fc5-490f-a92d-6a9319e640a8",
   "metadata": {},
   "outputs": [],
   "source": [
    "# Single image\n",
    "prng_img = jax.random.PRNGKey(random.randint(0, 2**32))\n",
    "images_in = jax.random.normal(prng_img, (1, 128, 128, 3))\n",
    "with mesh(devices, ('batch', 'x', 'y')):\n",
    "    out = denoising_loop(model, params, diff_params, images_in.astype(jnp.float32))\n",
    "image = np.array(((out[i, :, :, :] + 1.0) * 127.5)).astype(np.uint8)\n",
    "plt.figure(figsize=(8, 8))\n",
    "plt.imshow(image)\n",
    "plt.colorbar()\n",
    "plt.show()"
   ]
  },
  {
   "cell_type": "code",
   "execution_count": null,
   "id": "e5689c13-1f43-42dd-ad91-c93ab72c9669",
   "metadata": {},
   "outputs": [],
   "source": [
    "# Batch inference\n",
    "temp = 0.9\n",
    "prng_img = jax.random.PRNGKey(random.randint(0, 2**32))\n",
    "images_in = jax.random.normal(prng_img, (25, 128, 128, 3)) * temp\n",
    "with mesh(devices, ('batch', 'x', 'y')):\n",
    "    out = denoising_loop_pjit(params, diff_params, images_in.astype(jnp.float32))\n",
    "    \n",
    "plt.figure(figsize=(16, 16))\n",
    "for i in range(25):\n",
    "    plt.subplot(5, 5, i + 1)\n",
    "    image = np.array(((out[i, :, :, :] + 1.0) * 127.5)).astype(np.uint8)\n",
    "    plt.imshow(image, cmap=\"Greys\")\n",
    "    plt.xticks([])\n",
    "    plt.yticks([])\n",
    "plt.tight_layout()\n",
    "plt.savefig(\"out.png\")\n",
    "plt.show()"
   ]
  },
  {
   "cell_type": "code",
   "execution_count": null,
   "id": "dc31e316-8308-419d-8acb-21d908d6a29b",
   "metadata": {},
   "outputs": [],
   "source": []
  }
 ],
 "metadata": {
  "kernelspec": {
   "display_name": "Python 3 (ipykernel)",
   "language": "python",
   "name": "python3"
  },
  "language_info": {
   "codemirror_mode": {
    "name": "ipython",
    "version": 3
   },
   "file_extension": ".py",
   "mimetype": "text/x-python",
   "name": "python",
   "nbconvert_exporter": "python",
   "pygments_lexer": "ipython3",
   "version": "3.8.10"
  }
 },
 "nbformat": 4,
 "nbformat_minor": 5
}
