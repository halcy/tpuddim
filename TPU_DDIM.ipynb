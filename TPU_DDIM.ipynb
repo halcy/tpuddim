{
  "nbformat": 4,
  "nbformat_minor": 0,
  "metadata": {
    "colab": {
      "name": "TPU DDIM.ipynb",
      "provenance": [],
      "collapsed_sections": [],
      "machine_shape": "hm",
      "authorship_tag": "ABX9TyNvXm6mAOJrbuppiHE2QAUV",
      "include_colab_link": true
    },
    "kernelspec": {
      "name": "python3",
      "display_name": "Python 3"
    },
    "language_info": {
      "name": "python"
    },
    "accelerator": "TPU"
  },
  "cells": [
    {
      "cell_type": "markdown",
      "metadata": {
        "id": "view-in-github",
        "colab_type": "text"
      },
      "source": [
        "<a href=\"https://colab.research.google.com/github/halcy/tpuddim/blob/main/TPU_DDIM.ipynb\" target=\"_parent\"><img src=\"https://colab.research.google.com/assets/colab-badge.svg\" alt=\"Open In Colab\"/></a>"
      ]
    },
    {
      "cell_type": "markdown",
      "metadata": {
        "id": "MZsydUDmQuBT"
      },
      "source": [
        "# TPU DDIM Colab notebook"
      ]
    },
    {
      "cell_type": "code",
      "metadata": {
        "colab": {
          "base_uri": "https://localhost:8080/"
        },
        "id": "fI8gUnVLwrlV",
        "outputId": "820773ba-88da-4f70-e372-cb12d535edb9"
      },
      "source": [
        "# Catchall \"what is this runtime\" cell\n",
        "!nvidia-smi\n",
        "GPU = !nvidia_smi\n",
        "\n",
        "if len(GPU) > 3:\n",
        "    GPU = True\n",
        "else:\n",
        "    GPU = False\n",
        "\n",
        "!vmstat\n",
        "print(\"\")\n",
        "\n",
        "import os\n",
        "\n",
        "if \"COLAB_TPU_ADDR\" in os.environ:\n",
        "    from tensorflow.python.profiler import profiler_client\n",
        "    print(\"tpu:\", os.environ['COLAB_TPU_ADDR'])\n",
        "    tpu_profile_service_address = os.environ['COLAB_TPU_ADDR'].replace('8470', '8466')\n",
        "    print(profiler_client.monitor(tpu_profile_service_address, 100, 2).strip())\n",
        "    TPU = True\n",
        "else:\n",
        "    print(\"tpu: no\")\n",
        "    TPU = False\n",
        "\n",
        "CPUS = os.cpu_count()\n",
        "print(\"\\ncpus:\", CPUS)"
      ],
      "execution_count": null,
      "outputs": [
        {
          "output_type": "stream",
          "text": [
            "NVIDIA-SMI has failed because it couldn't communicate with the NVIDIA driver. Make sure that the latest NVIDIA driver is installed and running.\n",
            "\n",
            "procs -----------memory---------- ---swap-- -----io---- -system-- ------cpu-----\n",
            " r  b   swpd   free   buff  cache   si   so    bi    bo   in   cs us sy id wa st\n",
            " 1  0      0 33493092 107240 2394784    0    0    53     2   26  325  0  0 100  0  0\n",
            "\n",
            "tpu: 10.14.51.178:8470\n",
            "Timestamp: 16:53:24\n",
            "  TPU type: TPU v2\n",
            "  Utilization of TPU Matrix Units (higher is better): 0.000%\n",
            "\n",
            "cpus: 40\n"
          ],
          "name": "stdout"
        }
      ]
    },
    {
      "cell_type": "markdown",
      "metadata": {
        "id": "mcWWDPaGQmTG"
      },
      "source": [
        "# Basic setup\n",
        "\n",
        "Set up TPU, import libraries"
      ]
    },
    {
      "cell_type": "code",
      "metadata": {
        "id": "DmhGBH-7zUJO",
        "colab": {
          "base_uri": "https://localhost:8080/"
        },
        "outputId": "a5ad8de1-7905-44f3-e98b-6d7adb0bcfb8"
      },
      "source": [
        "# Set JAX, flax and optax up for the TPU\n",
        "!pip install --upgrade -q jax jaxlib optax tqdm\n",
        "!pip install --upgrade flax\n",
        "\n",
        "import requests\n",
        "import os\n",
        "\n",
        "if 'TPU_DRIVER_MODE' not in globals():\n",
        "    url = 'http://' + os.environ['COLAB_TPU_ADDR'].split(':')[0] + ':8475/requestversion/tpu_driver_nightly'\n",
        "    resp = requests.post(url)\n",
        "    TPU_DRIVER_MODE = 1\n",
        "\n",
        "# TPU driver as backend for JAX\n",
        "from jax.config import config\n",
        "config.FLAGS.jax_xla_backend = \"tpu_driver\"\n",
        "config.FLAGS.jax_backend_target = \"grpc://\" + os.environ['COLAB_TPU_ADDR']"
      ],
      "execution_count": null,
      "outputs": [
        {
          "output_type": "stream",
          "text": [
            "Requirement already satisfied: flax in /usr/local/lib/python3.7/dist-packages (0.3.4)\n",
            "Requirement already satisfied: msgpack in /usr/local/lib/python3.7/dist-packages (from flax) (1.0.2)\n",
            "Requirement already satisfied: numpy>=1.12 in /usr/local/lib/python3.7/dist-packages (from flax) (1.19.5)\n",
            "Requirement already satisfied: matplotlib in /usr/local/lib/python3.7/dist-packages (from flax) (3.2.2)\n",
            "Requirement already satisfied: optax in /usr/local/lib/python3.7/dist-packages (from flax) (0.0.9)\n",
            "Requirement already satisfied: jax>=0.2.13 in /usr/local/lib/python3.7/dist-packages (from flax) (0.2.18)\n",
            "Requirement already satisfied: opt-einsum in /usr/local/lib/python3.7/dist-packages (from jax>=0.2.13->flax) (3.3.0)\n",
            "Requirement already satisfied: absl-py in /usr/local/lib/python3.7/dist-packages (from jax>=0.2.13->flax) (0.12.0)\n",
            "Requirement already satisfied: six in /usr/local/lib/python3.7/dist-packages (from absl-py->jax>=0.2.13->flax) (1.15.0)\n",
            "Requirement already satisfied: pyparsing!=2.0.4,!=2.1.2,!=2.1.6,>=2.0.1 in /usr/local/lib/python3.7/dist-packages (from matplotlib->flax) (2.4.7)\n",
            "Requirement already satisfied: python-dateutil>=2.1 in /usr/local/lib/python3.7/dist-packages (from matplotlib->flax) (2.8.1)\n",
            "Requirement already satisfied: cycler>=0.10 in /usr/local/lib/python3.7/dist-packages (from matplotlib->flax) (0.10.0)\n",
            "Requirement already satisfied: kiwisolver>=1.0.1 in /usr/local/lib/python3.7/dist-packages (from matplotlib->flax) (1.3.1)\n",
            "Requirement already satisfied: jaxlib>=0.1.37 in /usr/local/lib/python3.7/dist-packages (from optax->flax) (0.1.69+cuda110)\n",
            "Requirement already satisfied: chex>=0.0.4 in /usr/local/lib/python3.7/dist-packages (from optax->flax) (0.0.8)\n",
            "Requirement already satisfied: dm-tree>=0.1.5 in /usr/local/lib/python3.7/dist-packages (from chex>=0.0.4->optax->flax) (0.1.6)\n",
            "Requirement already satisfied: toolz>=0.9.0 in /usr/local/lib/python3.7/dist-packages (from chex>=0.0.4->optax->flax) (0.11.1)\n",
            "Requirement already satisfied: flatbuffers<3.0,>=1.12 in /usr/local/lib/python3.7/dist-packages (from jaxlib>=0.1.37->optax->flax) (1.12)\n",
            "Requirement already satisfied: scipy in /usr/local/lib/python3.7/dist-packages (from jaxlib>=0.1.37->optax->flax) (1.4.1)\n"
          ],
          "name": "stdout"
        }
      ]
    },
    {
      "cell_type": "code",
      "metadata": {
        "id": "HHfiPH6dvtTQ"
      },
      "source": [
        "%matplotlib inline\n",
        "\n",
        "import matplotlib.pyplot as plt\n",
        "import numpy as np\n",
        "\n",
        "import math\n",
        "\n",
        "import jax\n",
        "import jax.numpy as jnp\n",
        "from jax import jit, lax\n",
        "from jax import nn as jnn\n",
        "from jax import random as jr\n",
        "import functools\n",
        "\n",
        "import flax\n",
        "import flax.linen as nn\n",
        "from flax.core import freeze, unfreeze\n",
        "\n",
        "from typing import Any, Callable, Sequence, Optional\n",
        "\n",
        "from jax.experimental.maps import xmap, mesh\n",
        "from jax.experimental.pjit import pjit, PartitionSpec\n",
        "from jax.experimental import stax\n",
        "\n",
        "import optax\n",
        "import tqdm\n",
        "\n",
        "import pickle\n",
        "\n",
        "# Pinky promise: We are now aware xmap is experimental, and will adjust our expectations accordingly\n",
        "import warnings\n",
        "warnings.filterwarnings(\"ignore\", message=\"xmap is an experimental feature and probably has bugs!\")"
      ],
      "execution_count": null,
      "outputs": []
    },
    {
      "cell_type": "code",
      "metadata": {
        "id": "nbHUX9RfxFKs"
      },
      "source": [
        "# Generate PRNG state\n",
        "prng = jr.PRNGKey(23)"
      ],
      "execution_count": null,
      "outputs": []
    },
    {
      "cell_type": "markdown",
      "metadata": {
        "id": "rgVg9FFcVCdV"
      },
      "source": [
        "# Blocks for a diffusion model"
      ]
    },
    {
      "cell_type": "markdown",
      "metadata": {
        "id": "DIZm0BEWBGrn"
      },
      "source": [
        "### Timestep embedding, block sequencing"
      ]
    },
    {
      "cell_type": "code",
      "metadata": {
        "id": "JQ4kbxHJA1zS"
      },
      "source": [
        "class TimeEmbed(nn.Module):\n",
        "    \"\"\"\n",
        "    Timestep embedding module\n",
        "    \"\"\"\n",
        "    time_embed_dim: int\n",
        "    max_period: int\n",
        "    project_embed_dim: int\n",
        "    embed_dtype: jnp.dtype = jnp.float32\n",
        "\n",
        "    @nn.compact\n",
        "    def __call__(self, timesteps):\n",
        "        # Calculate sinusodial embedding\n",
        "        half = self.time_embed_dim // 2\n",
        "        freqs = jnp.exp(-math.log(self.max_period) * jnp.arange(0, half) / half)\n",
        "        args = timesteps[:, None].astype(self.embed_dtype) * freqs[None]\n",
        "        embedding = jnp.concatenate([jnp.cos(args), jnp.sin(args)], axis = -1)\n",
        "        if self.time_embed_dim % 2:\n",
        "            embedding = jnp.concatenate([embedding, jnp.zeros(embedding[:, :1].shape)], axis = -1)\n",
        "\n",
        "        # Some dense layers to properly embed for real\n",
        "        embedding = nn.Dense(self.project_embed_dim)(embedding)\n",
        "        embedding = nn.silu(embedding)\n",
        "        embedding = nn.Dense(self.project_embed_dim)(embedding)\n",
        "        \n",
        "        return embedding\n",
        "\n",
        "class TimestepBlock(nn.Module):\n",
        "    \"\"\"\n",
        "    Interface for modules that can take timestep embeddings as input\n",
        "    in addition to regular embeddings.\n",
        "    \"\"\"\n",
        "    def __call__(self, x, emb):\n",
        "        pass\n",
        "\n",
        "class TimestepEmbedSequential(TimestepBlock):\n",
        "    \"\"\"\n",
        "    Block that passes timestep embeddings to all submodules that\n",
        "    want them.\n",
        "\n",
        "    Also works as a regular sequential type module\n",
        "    \"\"\"\n",
        "    layers: Sequence[nn.Module]\n",
        "\n",
        "    @nn.compact\n",
        "    def __call__(self, x, emb = None):\n",
        "        for layer in self.layers:\n",
        "            if isinstance(layer, TimestepBlock):\n",
        "                x = layer(x, emb)\n",
        "            else:\n",
        "                x = layer(x)\n",
        "        return x\n",
        "\n",
        "class TimestepBlockTest(TimestepBlock):\n",
        "    \"\"\"\n",
        "    Dummy block for testing\n",
        "    \"\"\"\n",
        "    @nn.compact\n",
        "    def __call__(self, x, emb):\n",
        "        return x"
      ],
      "execution_count": null,
      "outputs": []
    },
    {
      "cell_type": "code",
      "metadata": {
        "id": "d921MA1WglQa",
        "colab": {
          "base_uri": "https://localhost:8080/",
          "height": 36
        },
        "outputId": "c806331f-4413-4083-fa90-b930022153c9"
      },
      "source": [
        "# Lets see if it works\n",
        "\"\"\"\n",
        "embed_test = TimeEmbed(16, 10000, 16 * 4)\n",
        "embed_in = jnp.zeros((10, 1))\n",
        "params = embed_test.init(prng, embed_in)\n",
        "embed_test.apply(params, embed_in).shape\n",
        "\"\"\""
      ],
      "execution_count": null,
      "outputs": [
        {
          "output_type": "execute_result",
          "data": {
            "application/vnd.google.colaboratory.intrinsic+json": {
              "type": "string"
            },
            "text/plain": [
              "'\\nembed_test = TimeEmbed(16, 10000, 16 * 4)\\nembed_in = jnp.zeros((10, 1))\\nparams = embed_test.init(prng, embed_in)\\nembed_test.apply(params, embed_in).shape\\n'"
            ]
          },
          "metadata": {
            "tags": []
          },
          "execution_count": 7
        }
      ]
    },
    {
      "cell_type": "markdown",
      "metadata": {
        "id": "vuUrBmduBOuz"
      },
      "source": [
        "### Convolution, pooling and identity"
      ]
    },
    {
      "cell_type": "code",
      "metadata": {
        "id": "SDLtmReCBB2x"
      },
      "source": [
        "class ConvND(nn.Module):\n",
        "    \"\"\"\n",
        "    n-D convolution with square kernel\n",
        "    \"\"\"\n",
        "    dims: int\n",
        "    out_channels: int\n",
        "    kernel_size: int\n",
        "    stride: int = 1\n",
        "    padding: int = 'SAME'\n",
        "\n",
        "    def setup(self):\n",
        "        self.kernel = tuple([self.kernel_size] * self.dims)\n",
        "        self.strides = tuple([self.stride] * self.dims)\n",
        "        if self.padding in ['SAME', 'VALID']:\n",
        "            self.paddings = self.padding\n",
        "        else:\n",
        "            self.paddings = tuple([(self.padding, self.padding)] * self.dims)\n",
        "        self.conv = nn.Conv(self.out_channels, self.kernel, self.strides, self.paddings)\n",
        "\n",
        "    def __call__(self, x):\n",
        "        return self.conv(x)\n",
        "\n",
        "class AvgND(nn.Module):\n",
        "    \"\"\"\n",
        "    n-D average pooling with square window\n",
        "\n",
        "    Numeric padding is NOT supported, specify either SAME or VALID padding.\n",
        "    \"\"\"\n",
        "    dims: int\n",
        "    window_size: int = 2\n",
        "    stride: int = 2\n",
        "    padding: int = 'VALID'\n",
        "\n",
        "    def setup(self):\n",
        "        self.window = [1] + [self.window_size] * self.dims\n",
        "        self.strides = [1] + [self.stride] * self.dims\n",
        "        if self.padding in ['SAME', 'VALID']:\n",
        "            self.paddings = self.padding\n",
        "\n",
        "    def __call__(self, x):\n",
        "        full_window = tuple(list(self.window) + list([1] * (len(x.shape) - len(self.window) - 1)))\n",
        "        full_strides = tuple(list(self.strides) + list([1] * (len(x.shape) - len(self.window) - 1)))\n",
        "        return nn.avg_pool(x, full_window, full_strides, self.paddings)\n",
        "\n",
        "class Identity(nn.Module):\n",
        "  \"\"\"\n",
        "  For model building convenience, a class that does nothing\n",
        "  \"\"\"\n",
        "  @nn.compact\n",
        "  def __call__(self, x):\n",
        "      return x"
      ],
      "execution_count": null,
      "outputs": []
    },
    {
      "cell_type": "markdown",
      "metadata": {
        "id": "CoqDGvWaBTs_"
      },
      "source": [
        "### Up- and Downsampling"
      ]
    },
    {
      "cell_type": "code",
      "metadata": {
        "id": "tBo1s3I0AzIH"
      },
      "source": [
        "class Scale2X(nn.Module):\n",
        "  \"\"\"\n",
        "  nD 2x nearest neighbour scaling\n",
        "  \"\"\"\n",
        "  dims: int\n",
        "  \n",
        "  @nn.compact\n",
        "  def __call__(self, x):\n",
        "      for i in range(1, self.dims + 1):\n",
        "          x = jnp.repeat(x, 2, axis = i)\n",
        "      return x\n",
        "\n",
        "class Upsample(nn.Module):\n",
        "    \"\"\"\n",
        "    Upsampling layer, factor 2\n",
        "\n",
        "    Nearest neighour (element repeating), optionally with a convolution afterwards.\n",
        "    \"\"\"\n",
        "    dims: int\n",
        "    out_channels: int = 0\n",
        "    use_conv: bool = False\n",
        "\n",
        "    def setup(self):\n",
        "        self.scale = Scale2X(self.dims)\n",
        "        if self.use_conv:\n",
        "            assert self.out_channels != 0\n",
        "            self.conv = ConvND(self.dims, self.out_channels, 3)\n",
        "        else:\n",
        "            self.conv = Identity()\n",
        "\n",
        "    def __call__(self, x):\n",
        "        x = self.scale(x)\n",
        "        x = self.conv(x)\n",
        "        return x\n",
        "\n",
        "class Downsample(nn.Module):\n",
        "    \"\"\"\n",
        "    Downsampling layer, factor 2\n",
        "\n",
        "    Uses either average pooling (default) or a strided convolution.\n",
        "    \"\"\"\n",
        "    dims: int\n",
        "    out_channels: int = 0\n",
        "    use_conv: bool = False\n",
        "\n",
        "    def setup(self):\n",
        "        if self.use_conv:\n",
        "            assert self.out_channels != 0\n",
        "            self.downsample = ConvND(self.dims, self.out_channels, 3, stride=2, padding=1)\n",
        "        else:\n",
        "            self.downsample = AvgND(self.dims)\n",
        "\n",
        "    def __call__(self, x):\n",
        "        x = self.downsample(x)\n",
        "        return x"
      ],
      "execution_count": null,
      "outputs": []
    },
    {
      "cell_type": "markdown",
      "metadata": {
        "id": "9WtV_yh4BWxL"
      },
      "source": [
        "### Residual block"
      ]
    },
    {
      "cell_type": "code",
      "metadata": {
        "id": "Hetm2Mql3YoK"
      },
      "source": [
        "class ResBlock(TimestepBlock):\n",
        "    \"\"\"\n",
        "    Residual block with timesteps\n",
        "    \"\"\"\n",
        "    dims: int\n",
        "    in_channels: int\n",
        "    out_channels: int\n",
        "    dropout: float\n",
        "    use_conv: bool = False\n",
        "    up: bool = False\n",
        "    down: bool = False\n",
        "    use_scale_shift_norm: bool = False\n",
        "\n",
        "    def setup(self):\n",
        "        # Initial normalization block\n",
        "        self.in_block = TimestepEmbedSequential((\n",
        "            nn.GroupNorm(epsilon=1e-05),\n",
        "            nn.silu,\n",
        "        ))\n",
        "\n",
        "        # Up/Downsampling block\n",
        "        if self.up:\n",
        "            self.h_upd = Upsample(self.dims) \n",
        "            self.x_upd = Upsample(self.dims)\n",
        "        elif self.down:\n",
        "            self.h_upd = Downsample(self.dims)\n",
        "            self.x_upd = Downsample(self.dims)\n",
        "        else:\n",
        "            self.h_upd = self.x_upd = Identity()\n",
        "\n",
        "        # Input convolution\n",
        "        self.in_conv = ConvND(self.dims, self.out_channels, 3)\n",
        "\n",
        "        # Embedding projection block\n",
        "        self.embed_project = TimestepEmbedSequential((\n",
        "            nn.silu,\n",
        "            nn.Dense(2 * self.out_channels if self.use_scale_shift_norm else self.out_channels)\n",
        "        ))\n",
        "\n",
        "        # Actual layer stack\n",
        "        self.out_norm = nn.GroupNorm(epsilon=1e-05)\n",
        "        self.out_layers = TimestepEmbedSequential((\n",
        "            nn.silu,\n",
        "            nn.Dropout(self.dropout, deterministic=True), # TODO: This should be dynamic, for training. Right now it's a noop.\n",
        "            ConvND(self.dims, self.out_channels, 3) # There was a zero initializer (?) here, it's gone now, sorry. Maybe not important.\n",
        "        ))\n",
        "\n",
        "        # Channel change for skip connection\n",
        "        if self.out_channels == self.in_channels:\n",
        "            self.skip_connection = Identity()\n",
        "        elif self.use_conv:\n",
        "            self.skip_connection = ConvND(self.dims, self.out_channels, 3)\n",
        "        else:\n",
        "            self.skip_connection = ConvND(self.dims, self.out_channels, 1)\n",
        "\n",
        "    def __call__(self, x, emb):\n",
        "        # For residual: Resample x\n",
        "        x_res = self.x_upd(x)\n",
        "\n",
        "        # Run x through input & up/downsample block\n",
        "        x = self.in_block(x)\n",
        "        x = self.h_upd(x)\n",
        "        x = self.in_conv(x)\n",
        "            \n",
        "        # Project embedding and unsqueeze up to match shape of x\n",
        "        emb_out = self.embed_project(emb.reshape(emb.shape[0], -1))\n",
        "        emb_out = emb_out.reshape((emb_out.shape[0],) + tuple([1] * (len(x.shape) - len(emb_out.shape))) + (emb_out.shape[-1],))\n",
        "        \n",
        "        # Apply actual convolution\n",
        "        if self.use_scale_shift_norm:\n",
        "            scale = emb_out[..., :self.out_channels]\n",
        "            shift = emb_out[..., self.out_channels:]\n",
        "            x = self.out_norm(x) * (1 + scale) + shift\n",
        "            x = self.out_layers(x)\n",
        "        else:\n",
        "            x = x + emb_out\n",
        "            x = self.out_norm(x)\n",
        "            x = self.out_layers(x)\n",
        "\n",
        "        # Return residual\n",
        "        return self.skip_connection(x_res) + x"
      ],
      "execution_count": null,
      "outputs": []
    },
    {
      "cell_type": "code",
      "metadata": {
        "id": "Lo7iJPGNJVEC",
        "colab": {
          "base_uri": "https://localhost:8080/",
          "height": 36
        },
        "outputId": "aa2a628f-af86-4d73-cf29-06bd4bc8d346"
      },
      "source": [
        "# Lets see if it works\n",
        "\"\"\"\n",
        "conv = ResBlock(2, 64, 128, .5, up=True, use_conv=False, use_scale_shift_norm=True)\n",
        "conv_in = jnp.zeros((10, 20, 20, 64))\n",
        "params = conv.init(prng, conv_in, conv_in)\n",
        "conv.apply(params, conv_in, conv_in).shape\n",
        "\"\"\""
      ],
      "execution_count": null,
      "outputs": [
        {
          "output_type": "execute_result",
          "data": {
            "application/vnd.google.colaboratory.intrinsic+json": {
              "type": "string"
            },
            "text/plain": [
              "'\\nconv = ResBlock(2, 64, 128, .5, up=True, use_conv=False, use_scale_shift_norm=True)\\nconv_in = jnp.zeros((10, 20, 20, 64))\\nparams = conv.init(prng, conv_in, conv_in)\\nconv.apply(params, conv_in, conv_in).shape\\n'"
            ]
          },
          "metadata": {
            "tags": []
          },
          "execution_count": 11
        }
      ]
    },
    {
      "cell_type": "markdown",
      "metadata": {
        "id": "P1XwG04UBcH5"
      },
      "source": [
        "### Attention block"
      ]
    },
    {
      "cell_type": "code",
      "metadata": {
        "id": "mN7Eksoq_p3I"
      },
      "source": [
        "class SpatialSelfAttentionBlock(nn.Module):\n",
        "    \"\"\"\n",
        "    Dot-product attention block for spatial dimensions\n",
        "    \"\"\"\n",
        "    head_channels: int = 64\n",
        "    \n",
        "    @nn.compact\n",
        "    def __call__(self, x):\n",
        "        # Flatten out spatial channels and norm\n",
        "        batches = x.shape[0]\n",
        "        channels = x.shape[-1]\n",
        "        x_in = x.reshape((batches, -1, channels))\n",
        "        qkv = nn.GroupNorm(epsilon=1e-05)(x_in)\n",
        "\n",
        "        # Convolve to three times the amount of channels and split into query, key and value\n",
        "        qkv = ConvND(1, channels * 3, 1)(qkv)\n",
        "\n",
        "        # Calculate number of heads and split into heads\n",
        "        heads = int(channels / self.head_channels)\n",
        "        qkv = qkv.reshape(batches, -1, heads, self.head_channels * 3)\n",
        "\n",
        "        # Split into query/key/value\n",
        "        query = qkv[:, :, :, 0:self.head_channels] \n",
        "        key = qkv[:, :, :, self.head_channels:self.head_channels*2]\n",
        "        value = qkv[:, :, :, self.head_channels*2:]\n",
        "\n",
        "        # Calculate dot product attention and flatten out\n",
        "        x_out = nn.dot_product_attention(query, key, value, deterministic=True)\n",
        "        x_out = x_out.reshape((batches, -1, channels))\n",
        "\n",
        "        # Project\n",
        "        x_out = ConvND(1, channels, 1)(x_out)\n",
        "\n",
        "        # Resicual and reshape back to original shape\n",
        "        return (x_in + x_out).reshape(x.shape)"
      ],
      "execution_count": null,
      "outputs": []
    },
    {
      "cell_type": "code",
      "metadata": {
        "colab": {
          "base_uri": "https://localhost:8080/",
          "height": 36
        },
        "id": "RqCriODF9eFI",
        "outputId": "a2b48575-7fef-4511-f2f8-c2b9c1b1d2f6"
      },
      "source": [
        "# Lets see if it works\n",
        "\"\"\"\n",
        "attention = SpatialSelfAttentionBlock(64)\n",
        "attention_in = jnp.zeros((10, 20, 30, 256))\n",
        "params = attention.init(prng, attention_in)\n",
        "attention.apply(params, attention_in).shape\n",
        "\"\"\""
      ],
      "execution_count": null,
      "outputs": [
        {
          "output_type": "execute_result",
          "data": {
            "application/vnd.google.colaboratory.intrinsic+json": {
              "type": "string"
            },
            "text/plain": [
              "'\\nattention = SpatialSelfAttentionBlock(64)\\nattention_in = jnp.zeros((10, 20, 30, 256))\\nparams = attention.init(prng, attention_in)\\nattention.apply(params, attention_in).shape\\n'"
            ]
          },
          "metadata": {
            "tags": []
          },
          "execution_count": 13
        }
      ]
    },
    {
      "cell_type": "markdown",
      "metadata": {
        "id": "pwNkwIOzBpgT"
      },
      "source": [
        "# The actual model\n"
      ]
    },
    {
      "cell_type": "code",
      "metadata": {
        "id": "ZYMn4TpX_rMW"
      },
      "source": [
        "class UNet(nn.Module):\n",
        "    \"\"\"\n",
        "    Unet style model with spatial self attention.\n",
        "    Unconditional only, for now.\n",
        "    \"\"\"\n",
        "    dims: int\n",
        "    model_channels: int\n",
        "    channel_mult: int\n",
        "    use_scale_shift_norm: bool\n",
        "    dropout: float\n",
        "    num_head_channels: int\n",
        "    num_res_blocks: int\n",
        "    attention_resolutions: Sequence[int]\n",
        "    out_channels: int\n",
        "\n",
        "    def setup(self):\n",
        "        # Timestep embedding\n",
        "        time_embed_dim = self.model_channels * 4\n",
        "        self.time_embed = TimeEmbed(self.model_channels, 10000, time_embed_dim)\n",
        "\n",
        "        # Initial block for input stack\n",
        "        input_block_out_channels = int(self.channel_mult[0] * self.model_channels)\n",
        "        input_blocks = [TimestepEmbedSequential([ConvND(self.dims, input_block_out_channels, 3, padding = 1)])]\n",
        "\n",
        "        # Loop to create rest of input stack\n",
        "        current_channels = input_ch = int(self.channel_mult[0] * self.model_channels)\n",
        "        input_block_chans = [current_channels]\n",
        "        downsample_fact = 1\n",
        "        for level, mult in enumerate(self.channel_mult):\n",
        "            for _ in range(self.num_res_blocks):\n",
        "                # One res block\n",
        "                layers = [ResBlock(self.dims, current_channels, int(mult * self.model_channels), dropout = self.dropout, use_scale_shift_norm = self.use_scale_shift_norm)]\n",
        "                current_channels = int(mult * self.model_channels)\n",
        "\n",
        "                # One attention block, if requested\n",
        "                if downsample_fact in self.attention_resolutions:\n",
        "                    layers.append(SpatialSelfAttentionBlock(self.num_head_channels))\n",
        "\n",
        "                # Put those in sequence\n",
        "                input_blocks.append(TimestepEmbedSequential(layers))\n",
        "                input_block_chans.append(current_channels)\n",
        "\n",
        "            # Downsample if not the final block\n",
        "            if level != len(self.channel_mult) - 1:\n",
        "                input_blocks.append(ResBlock(self.dims, current_channels, current_channels, dropout = self.dropout, use_scale_shift_norm = self.use_scale_shift_norm, down = True))\n",
        "                input_block_chans.append(current_channels)\n",
        "                downsample_fact *= 2             \n",
        "        self.input_blocks = input_blocks\n",
        "\n",
        "        # Middle block\n",
        "        self.middle_block = TimestepEmbedSequential([\n",
        "            ResBlock(self.dims, current_channels, current_channels, self.dropout, use_scale_shift_norm = self.use_scale_shift_norm),\n",
        "            SpatialSelfAttentionBlock(self.num_head_channels),\n",
        "            ResBlock(self.dims, current_channels, current_channels, self.dropout, use_scale_shift_norm = self.use_scale_shift_norm),\n",
        "        ])\n",
        "\n",
        "        # Output blocks\n",
        "        output_blocks = []\n",
        "        for level, mult in list(enumerate(self.channel_mult))[::-1]:\n",
        "            for i in range(self.num_res_blocks + 1):\n",
        "                # One res block, with skip input from same unet level\n",
        "                skip_channels = input_block_chans.pop()\n",
        "                in_channels = current_channels + skip_channels\n",
        "                layers = [ResBlock(self.dims, in_channels, int(self.model_channels * mult), dropout = self.dropout, use_scale_shift_norm = self.use_scale_shift_norm)]\n",
        "                current_channels = int(self.model_channels * mult)\n",
        "\n",
        "                # One attention block, if requested\n",
        "                if downsample_fact in self.attention_resolutions:\n",
        "                    layers.append(SpatialSelfAttentionBlock(self.num_head_channels))\n",
        "                    \n",
        "                # Upsample, if not the final block\n",
        "                if level != 0 and i == self.num_res_blocks:\n",
        "                    out_ch = current_channels\n",
        "                    layers.append(ResBlock(self.dims, current_channels, current_channels, dropout = self.dropout, use_scale_shift_norm = self.use_scale_shift_norm, up = True))\n",
        "                    downsample_fact //= 2\n",
        "                output_blocks.append(TimestepEmbedSequential(layers))\n",
        "        self.output_blocks = output_blocks\n",
        "\n",
        "        # Final output block\n",
        "        self.out = TimestepEmbedSequential([\n",
        "            nn.GroupNorm(),\n",
        "            nn.silu,\n",
        "            ConvND(self.dims, self.out_channels, 3),\n",
        "        ])\n",
        "\n",
        "    # Left / input side of fotward pass\n",
        "    def forward_in(self, x, t):\n",
        "        emb = self.time_embed(t)\n",
        "\n",
        "        h = x\n",
        "        hs = []\n",
        "        for block in self.input_blocks:\n",
        "            h = block(h, emb)\n",
        "            hs.append(h)\n",
        "\n",
        "        h = self.middle_block(h, emb)\n",
        "        return h, emb, hs\n",
        "        \n",
        "    # Right / output side of forward pass\n",
        "    def forward_out(self, h, emb, hs):\n",
        "        for i in range(len(self.output_blocks)):\n",
        "            h = jnp.concatenate([h, hs[len(self.output_blocks) - i - 1]], axis = -1)\n",
        "            h = self.output_blocks[i](h, emb)\n",
        "        h = self.out(h)\n",
        "        return h\n",
        "\n",
        "    # Full forward pass\n",
        "    def __call__(self, x, t):\n",
        "        emb = self.time_embed(t)\n",
        "\n",
        "        h = x\n",
        "        hs = []\n",
        "        for block in self.input_blocks:\n",
        "            h = block(h, emb)\n",
        "            hs.append(h)\n",
        "\n",
        "        h = self.middle_block(h, emb)\n",
        "\n",
        "        for block in self.output_blocks:\n",
        "            h = jnp.concatenate([h, hs.pop()], axis = -1)\n",
        "            h = block(h, emb)\n",
        "\n",
        "        h = self.out(h)\n",
        "        return h\n",
        "\n",
        "# Helper function for the channel multipliers from the OpenAI guided diffusion model.\n",
        "def get_default_channel_mult(image_size):\n",
        "    channel_mult = None\n",
        "    if image_size == 512:\n",
        "        channel_mult = (0.5, 1, 1, 2, 2, 4, 4)\n",
        "    elif image_size == 256:\n",
        "        channel_mult = (1, 1, 2, 2, 4, 4)\n",
        "    elif image_size == 128:\n",
        "        channel_mult = (1, 1, 2, 3, 4)\n",
        "    elif image_size == 64:\n",
        "        channel_mult = (1, 2, 3, 4)\n",
        "    else:\n",
        "        raise ValueError(f\"unsupported image size: {image_size}\")\n",
        "    return channel_mult\n",
        "\n",
        "if DO_JIT == True:\n",
        "    UNet = nn.jit(UNet)"
      ],
      "execution_count": null,
      "outputs": []
    },
    {
      "cell_type": "code",
      "metadata": {
        "id": "kASxX9OkpPlh"
      },
      "source": [
        "# Lets see if it works, by instantiating parameters for a 256x256 model that matches OpenAIs\n",
        "unet = UNet(\n",
        "    dims = 2,\n",
        "    model_channels = 256,\n",
        "    channel_mult = get_default_channel_mult(256),\n",
        "    use_scale_shift_norm = True,\n",
        "    dropout = 0.0,\n",
        "    num_head_channels = 64,\n",
        "    num_res_blocks = 2,\n",
        "    attention_resolutions = (32, 16, 8),\n",
        "    out_channels = 6\n",
        ")\n",
        "image_in = jnp.zeros((1, 256, 256, 3))\n",
        "embed_in = jnp.zeros((1,))\n",
        "\n",
        "# To instantiate a new model (for training, or loading pytorch params, or renaming parameters after jit-ing parts of the model)\n",
        "#params = unet.init(prng, image_in, embed_in)"
      ],
      "execution_count": null,
      "outputs": []
    },
    {
      "cell_type": "code",
      "metadata": {
        "colab": {
          "base_uri": "https://localhost:8080/"
        },
        "id": "UT4-H_7gpT9G",
        "outputId": "7d23717b-97a5-4275-8f91-14517092e0ea"
      },
      "source": [
        "# Or we can just load a pickled set of params\n",
        "if not os.path.exists(\"openai_256x256_diffusion_uncond.pkl\"):\n",
        "    from google.colab import drive\n",
        "    drive.mount('/content/drive')\n",
        "    !cp /content/drive/MyDrive/openai_256x256_diffusion_uncond.pkl openai_256x256_diffusion_uncond.pkl"
      ],
      "execution_count": null,
      "outputs": [
        {
          "output_type": "stream",
          "text": [
            "Mounted at /content/drive\n"
          ],
          "name": "stdout"
        }
      ]
    },
    {
      "cell_type": "code",
      "metadata": {
        "id": "sNRnFF0YpUD9"
      },
      "source": [
        "with open(\"openai_256x256_diffusion_uncond.pkl\", \"rb\") as f:\n",
        "    params_load = pickle.load(f)\n",
        "params = jax.device_put(params_load)"
      ],
      "execution_count": null,
      "outputs": []
    },
    {
      "cell_type": "code",
      "metadata": {
        "id": "CvM4QIV_pnpi"
      },
      "source": [
        "# Define split forward passes with the model computation serialized between two cores\n",
        "# This isn't efficient, but at least actually lets the model run like on colab TPUs\n",
        "def forward_pass_1(image_in, embed_in):\n",
        "    return unet.apply(params, image_in, embed_in, method=unet.forward_in)\n",
        "\n",
        "def forward_pass_2(tmp_h, tmp_emb, tmp_hs): \n",
        "    return unet.apply(params, tmp_h, tmp_emb, tmp_hs, method=unet.forward_out)\n",
        "\n",
        "forward_pass_1_jit = jit(forward_pass_1, device = jax.devices()[0])\n",
        "forward_pass_2_jit = jit(forward_pass_2, device = jax.devices()[1])\n",
        "\n",
        "# Define a combined forward pass. Can't jit the whole pass, it does not fit onto a \n",
        "# single TPU core unsharded, and colab TPUs do not support pjit / sharded_jit.\n",
        "def forward_pass(image_in, embed_in):\n",
        "    tmp_h, tmp_emb, tmp_hs = forward_pass_1_jit(image_in, embed_in)\n",
        "    out = forward_pass_2_jit(tmp_h, tmp_emb, tmp_hs)\n",
        "    return out"
      ],
      "execution_count": null,
      "outputs": []
    },
    {
      "cell_type": "code",
      "metadata": {
        "colab": {
          "base_uri": "https://localhost:8080/"
        },
        "id": "rIGAGPmJqgiU",
        "outputId": "7ea2eee2-164b-495d-f179-9a1cec343791"
      },
      "source": [
        "# And now: Inference!\n",
        "# Doing 1000 steps takes around 5 minutes - not exactly fast\n",
        "image_out = image_in # TODO real input\n",
        "for i in tqdm.tqdm(range(1000)):\n",
        "    out = forward_pass(image_out, embed_in) # TODO timesteps\n",
        "    image_out = out[:, :, :, :3] # Remove extra dimensions\n",
        "image_out"
      ],
      "execution_count": null,
      "outputs": [
        {
          "output_type": "stream",
          "text": [
            "100%|██████████| 1000/1000 [05:01<00:00,  3.32it/s]\n"
          ],
          "name": "stderr"
        },
        {
          "output_type": "execute_result",
          "data": {
            "text/plain": [
              "DeviceArray([[[[-5.38708121e-02,  1.00249201e-02,  9.41987634e-02],\n",
              "               [-1.74444169e-04, -8.01641494e-03,  1.07820466e-01],\n",
              "               [-1.36604235e-02, -1.91797018e-02,  1.29849076e-01],\n",
              "               ...,\n",
              "               [ 1.02168601e-02, -5.85068204e-03,  1.17271289e-01],\n",
              "               [ 2.25835405e-02, -2.53075399e-02,  1.22576877e-01],\n",
              "               [-9.68872607e-02,  1.05745599e-01,  1.29084095e-01]],\n",
              "\n",
              "              [[-8.25234428e-02,  4.09766287e-02, -1.15936864e-02],\n",
              "               [-7.26091713e-02,  3.08041871e-02,  9.44973715e-03],\n",
              "               [-6.91175908e-02,  6.28691912e-02, -1.50876027e-02],\n",
              "               ...,\n",
              "               [-6.09511510e-02,  5.70226051e-02, -5.24333771e-03],\n",
              "               [-2.91892216e-02,  3.03397626e-02, -8.42249207e-03],\n",
              "               [-1.84157342e-01,  2.15163067e-01, -6.60102069e-03]],\n",
              "\n",
              "              [[-6.81292936e-02,  4.67030182e-02, -1.75572205e-02],\n",
              "               [-7.64651150e-02,  6.81040436e-02,  2.87225284e-02],\n",
              "               [-6.47261068e-02,  7.42925256e-02,  1.84111111e-02],\n",
              "               ...,\n",
              "               [-4.69035245e-02,  8.22192132e-02,  5.55748492e-03],\n",
              "               [-3.71295027e-02,  4.83920015e-02,  1.80966146e-02],\n",
              "               [-1.54541552e-01,  2.26987213e-01,  2.25868076e-03]],\n",
              "\n",
              "              ...,\n",
              "\n",
              "              [[-6.00880906e-02,  5.33506535e-02, -2.33976897e-02],\n",
              "               [-6.31432608e-02,  5.65688387e-02,  1.44152399e-02],\n",
              "               [-5.61723635e-02,  6.36363178e-02,  6.28572702e-03],\n",
              "               ...,\n",
              "               [-4.39896248e-02,  7.87548125e-02, -1.09008700e-02],\n",
              "               [-2.30887532e-02,  4.46672440e-02, -6.57037180e-03],\n",
              "               [-1.31619573e-01,  2.10715786e-01, -1.11633781e-02]],\n",
              "\n",
              "              [[-5.81581965e-02,  6.18059263e-02, -4.49808612e-02],\n",
              "               [-4.11083028e-02,  3.97711806e-02, -7.00129196e-04],\n",
              "               [-3.96597646e-02,  6.00595586e-02, -1.78194121e-02],\n",
              "               ...,\n",
              "               [-3.22345644e-02,  7.71389902e-02, -3.91770862e-02],\n",
              "               [-1.18028857e-02,  6.19170070e-02, -3.34446654e-02],\n",
              "               [-1.43298745e-01,  2.01979265e-01, -1.77823044e-02]],\n",
              "\n",
              "              [[-2.28734791e-01,  2.42902577e-01,  1.78895183e-02],\n",
              "               [-2.24744052e-01,  2.13929564e-01,  2.93650590e-02],\n",
              "               [-1.93775892e-01,  1.90868720e-01,  1.96934640e-02],\n",
              "               ...,\n",
              "               [-1.94762766e-01,  2.13435858e-01,  6.21833280e-03],\n",
              "               [-2.17043489e-01,  1.88103765e-01,  4.26566340e-02],\n",
              "               [-1.73802465e-01,  2.61896223e-01, -7.05917031e-02]]]],            dtype=float32)"
            ]
          },
          "metadata": {
            "tags": []
          },
          "execution_count": 34
        }
      ]
    },
    {
      "cell_type": "code",
      "metadata": {
        "colab": {
          "base_uri": "https://localhost:8080/",
          "height": 360
        },
        "id": "olxtXL0BtYoA",
        "outputId": "16f0bad0-8648-4611-e148-e3bd434e9960"
      },
      "source": [
        "plt.figure(figsize=(5, 5))\n",
        "plt.imshow(image_out[0,:,:,:])"
      ],
      "execution_count": null,
      "outputs": [
        {
          "output_type": "stream",
          "text": [
            "WARNING:matplotlib.image:Clipping input data to the valid range for imshow with RGB data ([0..1] for floats or [0..255] for integers).\n"
          ],
          "name": "stderr"
        },
        {
          "output_type": "execute_result",
          "data": {
            "text/plain": [
              "<matplotlib.image.AxesImage at 0x7f5429f41b90>"
            ]
          },
          "metadata": {
            "tags": []
          },
          "execution_count": 36
        },
        {
          "output_type": "display_data",
          "data": {
            "image/png": "[encoded data removed]",
            "text/plain": [
              "<Figure size 360x360 with 1 Axes>"
            ]
          },
          "metadata": {
            "tags": [],
            "needs_background": "light"
          }
        }
      ]
    },
    {
      "cell_type": "markdown",
      "metadata": {
        "id": "uKCj8zPHZOog"
      },
      "source": [
        "# Appendix A: Loading parameters from pytorch\n",
        "\n",
        "Now that we have a model: Lets load the OpenAI pretrained weights, and see if we match up! This part breaks if you run the JIT because the order seems to not match anymore, so... don't, or do something smarter than just going by order."
      ]
    },
    {
      "cell_type": "code",
      "metadata": {
        "id": "Z35bljjXELF1"
      },
      "source": [
        "# Helper function to build a list of param entries (and print them besides)\n",
        "def traverse_params(params, prefix = \"\", name_prefix = \"\", print_params=False):\n",
        "    param_sum = 0\n",
        "    param_list = []\n",
        "    for key in params.keys():\n",
        "        if isinstance(params[key], flax.core.frozen_dict.FrozenDict) or isinstance(params[key], dict):\n",
        "            if print_params:\n",
        "                print(prefix + key)\n",
        "            param_sum_rec, param_list_rec = traverse_params(params[key], prefix + \"    \", name_prefix + key + \".\", print_params)\n",
        "            param_sum += param_sum_rec\n",
        "            param_list.extend(param_list_rec)\n",
        "        else:\n",
        "            if print_params:\n",
        "                print(prefix + key, params[key].shape)            \n",
        "            param_sum += (params[key].flatten().shape[0])\n",
        "            param_list.append((name_prefix + key, params[key].shape))\n",
        "    return param_sum, param_list"
      ],
      "execution_count": null,
      "outputs": []
    },
    {
      "cell_type": "code",
      "metadata": {
        "id": "S1zlTM3f-wD7",
        "colab": {
          "base_uri": "https://localhost:8080/"
        },
        "outputId": "c0195188-aadb-49f1-abab-1db65e435fec"
      },
      "source": [
        "param_sum, param_list = traverse_params(params)\n",
        "print(\"Number of parameters:\", param_sum)"
      ],
      "execution_count": null,
      "outputs": [
        {
          "output_type": "stream",
          "text": [
            "Number of parameters: 552814086\n"
          ],
          "name": "stdout"
        }
      ]
    },
    {
      "cell_type": "code",
      "metadata": {
        "id": "ZNhVL7bxFSrF",
        "colab": {
          "base_uri": "https://localhost:8080/"
        },
        "outputId": "6b44031b-e8f8-47c2-b197-17e8ba3d490e"
      },
      "source": [
        "# Import pytorch, download the 256x256 unconditional model, and load the state dictionary\n",
        "import torch as pt\n",
        "!wget https://openaipublic.blob.core.windows.net/diffusion/jul-2021/256x256_diffusion_uncond.pt\n",
        "state_dict = pt.load(\"/content/256x256_diffusion_uncond.pt\", map_location=pt.device(\"cpu\"))"
      ],
      "execution_count": null,
      "outputs": [
        {
          "output_type": "stream",
          "text": [
            "--2021-07-31 18:59:57--  https://openaipublic.blob.core.windows.net/diffusion/jul-2021/256x256_diffusion_uncond.pt\n",
            "Resolving openaipublic.blob.core.windows.net (openaipublic.blob.core.windows.net)... 20.150.77.132\n",
            "Connecting to openaipublic.blob.core.windows.net (openaipublic.blob.core.windows.net)|20.150.77.132|:443... connected.\n",
            "HTTP request sent, awaiting response... 200 OK\n",
            "Length: 2211383297 (2.1G) [application/octet-stream]\n",
            "Saving to: ‘256x256_diffusion_uncond.pt’\n",
            "\n",
            "256x256_diffusion_u 100%[===================>]   2.06G  45.1MB/s    in 47s     \n",
            "\n",
            "2021-07-31 19:00:44 (45.1 MB/s) - ‘256x256_diffusion_uncond.pt’ saved [2211383297/2211383297]\n",
            "\n"
          ],
          "name": "stdout"
        }
      ]
    },
    {
      "cell_type": "code",
      "metadata": {
        "id": "EHCTglG5HSMH"
      },
      "source": [
        "# See if shapes match up and build a list of parameters to assign\n",
        "param_dict = {}\n",
        "for (jax_key, jax_shape), torch_key in zip(param_list, state_dict.keys()):\n",
        "    pt_shape = tuple(state_dict[torch_key].shape[::-1])\n",
        "    while len(pt_shape) < len(jax_shape):\n",
        "        pt_shape = (1,) + pt_shape\n",
        "    param_dict[jax_key] = state_dict[torch_key].T.reshape(pt_shape).detach().numpy()\n",
        "    if jax_shape != param_dict[jax_key].shape:\n",
        "        print(\"Shape mismatch:\", jax_key, jax_shape, torch_key, pt_shape)"
      ],
      "execution_count": null,
      "outputs": []
    },
    {
      "cell_type": "code",
      "metadata": {
        "id": "XjQTMPoRHxXz"
      },
      "source": [
        "# Traverse unfrozen version of params and assign according to keys from traverse_params\n",
        "def assign_params(params, param_dict, name_prefix = \"\"):\n",
        "    for key in params.keys():\n",
        "        if isinstance(params[key], dict):\n",
        "            assign_params(params[key], param_dict, name_prefix + key + \".\")\n",
        "        else:\n",
        "            params[key] = param_dict[name_prefix + key]\n",
        "params_load = params.unfreeze()            \n",
        "assign_params(params_load, param_dict)"
      ],
      "execution_count": null,
      "outputs": []
    },
    {
      "cell_type": "code",
      "metadata": {
        "id": "j7N3x3COzsCf"
      },
      "source": [
        "# Now, save the result\n",
        "with open(\"openai_256x256_diffusion_uncond.pkl\", \"wb\") as f:\n",
        "    pickle.dump(params_load, f)"
      ],
      "execution_count": null,
      "outputs": []
    },
    {
      "cell_type": "code",
      "metadata": {
        "colab": {
          "base_uri": "https://localhost:8080/"
        },
        "id": "VpDBw8Yx1pWK",
        "outputId": "320de92f-6bbf-4a6a-b1a1-4fd62f330362"
      },
      "source": [
        "# And copy it to somewhere safe\n",
        "from google.colab import drive\n",
        "drive.mount('/content/drive')\n",
        "!cp openai_256x256_diffusion_uncond.pkl /content/drive/MyDrive/openai_256x256_diffusion_uncond.pkl"
      ],
      "execution_count": null,
      "outputs": [
        {
          "output_type": "stream",
          "text": [
            "Drive already mounted at /content/drive; to attempt to forcibly remount, call drive.mount(\"/content/drive\", force_remount=True).\n"
          ],
          "name": "stdout"
        }
      ]
    },
    {
      "cell_type": "markdown",
      "metadata": {
        "id": "hoUwzIh3795f"
      },
      "source": [
        "# Appendix B: Rename weights after flax.linen.jit (Maybe don't use that, though)"
      ]
    },
    {
      "cell_type": "code",
      "metadata": {
        "colab": {
          "base_uri": "https://localhost:8080/"
        },
        "id": "uF6XIAe976-I",
        "outputId": "f8563a1d-4e81-456b-b80b-5c34bd8179d9"
      },
      "source": [
        "# Build a flat dictionary for easy renaming\n",
        "def build_flat_dict(params, prefix = \"\", name_prefix = \"\", print_params=False):\n",
        "    param_sum = 0\n",
        "    param_list = []\n",
        "    for key in params.keys():\n",
        "        if isinstance(params[key], flax.core.frozen_dict.FrozenDict) or isinstance(params[key], dict):\n",
        "            if print_params:\n",
        "                print(prefix + key)\n",
        "            param_sum_rec, param_list_rec = build_flat_dict(params[key], prefix + \"    \", name_prefix + key + \".\", print_params)\n",
        "            param_sum += param_sum_rec\n",
        "            param_list.extend(param_list_rec)\n",
        "        else:\n",
        "            if print_params:\n",
        "                print(prefix + key, params[key].shape)            \n",
        "            param_sum += (params[key].flatten().shape[0])\n",
        "            param_list.append((name_prefix + key, params[key] ))\n",
        "    \n",
        "    if name_prefix == \"\":\n",
        "        param_list = dict(param_list)\n",
        "\n",
        "    return param_sum, param_list\n",
        "\n",
        "param_sum, param_list = traverse_params(params)\n",
        "print(\"Number of parameters:\", param_sum)\n",
        "\n",
        "param_sum_load, param_list_load = build_flat_dict(params_load)\n",
        "print(\"Number of parameters (loaded):\", param_sum_load)"
      ],
      "execution_count": null,
      "outputs": [
        {
          "output_type": "stream",
          "text": [
            "Number of parameters: 552814086\n",
            "Number of parameters (loaded): 552814086\n"
          ],
          "name": "stdout"
        }
      ]
    },
    {
      "cell_type": "code",
      "metadata": {
        "id": "32s7KKz5_jKP"
      },
      "source": [
        "# Make sure our renaming gets everything\n",
        "for param in param_list:\n",
        "    param_name = param[0]\n",
        "    param_name_loaded = param_name.replace(\"Jit\", \"\")\n",
        "    if not param_name_loaded in param_list_load:\n",
        "        print(\"MISSING\")"
      ],
      "execution_count": null,
      "outputs": []
    },
    {
      "cell_type": "code",
      "metadata": {
        "id": "rZ5UXTFYDuxt"
      },
      "source": [
        "# Traverse unfrozen version of params and assign according to keys from traverse_params\n",
        "def assign_params_rename(params, param_dict, name_prefix = \"\"):\n",
        "    for key in params.keys():\n",
        "        if isinstance(params[key], dict):\n",
        "            assign_params_rename(params[key], param_dict, name_prefix + key + \".\")\n",
        "        else:\n",
        "            param_name = name_prefix + key\n",
        "            param_name_loaded = param_name.replace(\"Jit\", \"\")\n",
        "            params[key] = param_dict[param_name_loaded]\n",
        "params_load_renamed = params.unfreeze()            \n",
        "assign_params_rename(params_load_renamed, param_list_load)"
      ],
      "execution_count": null,
      "outputs": []
    },
    {
      "cell_type": "code",
      "metadata": {
        "id": "EiNwV7dTEgZt"
      },
      "source": [
        "# Now, save the result\n",
        "with open(\"openai_256x256_diffusion_uncond_jit.pkl\", \"wb\") as f:\n",
        "    pickle.dump(params_load_renamed, f)"
      ],
      "execution_count": null,
      "outputs": []
    },
    {
      "cell_type": "code",
      "metadata": {
        "colab": {
          "base_uri": "https://localhost:8080/"
        },
        "id": "9HaoKhenElCv",
        "outputId": "a3a82d42-e5bd-4367-b35b-c92632f1b4f2"
      },
      "source": [
        "# And copy it to somewhere safe\n",
        "from google.colab import drive\n",
        "drive.mount('/content/drive')\n",
        "!cp openai_256x256_diffusion_uncond_jit.pkl /content/drive/MyDrive/openai_256x256_diffusion_uncond.pkl"
      ],
      "execution_count": null,
      "outputs": [
        {
          "output_type": "stream",
          "text": [
            "Drive already mounted at /content/drive; to attempt to forcibly remount, call drive.mount(\"/content/drive\", force_remount=True).\n"
          ],
          "name": "stdout"
        }
      ]
    },
    {
      "cell_type": "markdown",
      "metadata": {
        "id": "hRIC9_keQjzS"
      },
      "source": [
        "# Next up\n",
        "Tomorrow, we continue where we left off: Lets implement the whole unet, maybe train something!"
      ]
    }
  ]
}